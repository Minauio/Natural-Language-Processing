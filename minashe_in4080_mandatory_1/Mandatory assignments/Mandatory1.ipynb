{
 "cells": [
  {
   "cell_type": "markdown",
   "metadata": {},
   "source": [
    "## IN4080 - Mandatory assignment 1 \n",
    "### Part 1 - Conditional frequency distributions\n",
    "\n",
    "a. Question:\n",
    "Conduction a experiment and occurences of  the words: he, she, her, him as events. Make a table of the conditional frequencies and deliver code and table.\n",
    "Note: you may use the tools from NLTK or create a Pandas dataframe.  "
   ]
  },
  {
   "cell_type": "code",
   "execution_count": 55,
   "metadata": {},
   "outputs": [
    {
     "data": {
      "text/html": [
       "<div>\n",
       "<style scoped>\n",
       "    .dataframe tbody tr th:only-of-type {\n",
       "        vertical-align: middle;\n",
       "    }\n",
       "\n",
       "    .dataframe tbody tr th {\n",
       "        vertical-align: top;\n",
       "    }\n",
       "\n",
       "    .dataframe thead th {\n",
       "        text-align: right;\n",
       "    }\n",
       "</style>\n",
       "<table border=\"1\" class=\"dataframe\">\n",
       "  <thead>\n",
       "    <tr style=\"text-align: right;\">\n",
       "      <th></th>\n",
       "      <th>news</th>\n",
       "      <th>religion</th>\n",
       "      <th>government</th>\n",
       "      <th>fiction</th>\n",
       "      <th>romance</th>\n",
       "    </tr>\n",
       "  </thead>\n",
       "  <tbody>\n",
       "    <tr>\n",
       "      <th>He</th>\n",
       "      <td>1170</td>\n",
       "      <td>1170</td>\n",
       "      <td>1170</td>\n",
       "      <td>1170</td>\n",
       "      <td>1170</td>\n",
       "    </tr>\n",
       "    <tr>\n",
       "      <th>he</th>\n",
       "      <td>2223</td>\n",
       "      <td>2223</td>\n",
       "      <td>2223</td>\n",
       "      <td>2223</td>\n",
       "      <td>2223</td>\n",
       "    </tr>\n",
       "    <tr>\n",
       "      <th>him</th>\n",
       "      <td>892</td>\n",
       "      <td>892</td>\n",
       "      <td>892</td>\n",
       "      <td>892</td>\n",
       "      <td>892</td>\n",
       "    </tr>\n",
       "    <tr>\n",
       "      <th>She</th>\n",
       "      <td>415</td>\n",
       "      <td>415</td>\n",
       "      <td>415</td>\n",
       "      <td>415</td>\n",
       "      <td>415</td>\n",
       "    </tr>\n",
       "    <tr>\n",
       "      <th>she</th>\n",
       "      <td>828</td>\n",
       "      <td>828</td>\n",
       "      <td>828</td>\n",
       "      <td>828</td>\n",
       "      <td>828</td>\n",
       "    </tr>\n",
       "    <tr>\n",
       "      <th>her</th>\n",
       "      <td>1162</td>\n",
       "      <td>1162</td>\n",
       "      <td>1162</td>\n",
       "      <td>1162</td>\n",
       "      <td>1162</td>\n",
       "    </tr>\n",
       "    <tr>\n",
       "      <th>Her</th>\n",
       "      <td>63</td>\n",
       "      <td>63</td>\n",
       "      <td>63</td>\n",
       "      <td>63</td>\n",
       "      <td>63</td>\n",
       "    </tr>\n",
       "    <tr>\n",
       "      <th>Him</th>\n",
       "      <td>43</td>\n",
       "      <td>43</td>\n",
       "      <td>43</td>\n",
       "      <td>43</td>\n",
       "      <td>43</td>\n",
       "    </tr>\n",
       "  </tbody>\n",
       "</table>\n",
       "</div>"
      ],
      "text/plain": [
       "     news  religion  government  fiction  romance\n",
       "He   1170      1170        1170     1170     1170\n",
       "he   2223      2223        2223     2223     2223\n",
       "him   892       892         892      892      892\n",
       "She   415       415         415      415      415\n",
       "she   828       828         828      828      828\n",
       "her  1162      1162        1162     1162     1162\n",
       "Her    63        63          63       63       63\n",
       "Him    43        43          43       43       43"
      ]
     },
     "execution_count": 55,
     "metadata": {},
     "output_type": "execute_result"
    }
   ],
   "source": [
    "import nltk\n",
    "from nltk.corpus import brown\n",
    "import pandas as pd\n",
    "\n",
    "genres = [\"news\", \"religion\", \"government\", \"fiction\", \"romance\"]\n",
    "pronouns = [\"he\", \"she\", \"her\", \"him\"]\n",
    "\n",
    "cfd = nltk.ConditionalFreqDist(\n",
    "    (genre, pronoun)\n",
    "    for genre in genres\n",
    "    for pronoun in brown.words(categories=genres)\n",
    "    if pronoun.lower() in pronouns)\n",
    "\n",
    "\n",
    "pd.DataFrame(cfd)"
   ]
  },
  {
   "cell_type": "markdown",
   "metadata": {},
   "source": [
    "b. Question: \n",
    "How does gender vary across genres?\n",
    "\n",
    "Answer:\n",
    "We observe that the most frequent pronoun used are he in fiction (813) and romance (702), then her in romance (651) and she in the same genre (496).\n",
    "\n",
    "\n",
    "c. Question: \n",
    "First, consider the complete Brown corpus. Construct a conditional frequency distribution, which\n",
    "uses gender as condition, and for each gender counts the occurrences of nominative forms (he,\n",
    "she) and object forms (him, her). Report the results in a two-by-two table. Then calculate the\n",
    "relative frequency of her from she or her and compare to the relative frequency of him from he\n",
    "or him. Report the numbers. Submit table, numbers and code you used.\n"
   ]
  },
  {
   "cell_type": "code",
   "execution_count": 56,
   "metadata": {},
   "outputs": [],
   "source": [
    "genders = {\"Female\":[\"she\", \"her\"], \"Male\":[\"he\",\"him\"]}\n",
    "forms = {\"Nominative\": [\"he\", \"she\"], \"Object\":[\"her\", \"him\"]}\n",
    "\n",
    "cfd1 = nltk.ConditionalFreqDist(\n",
    "    (form, gender)\n",
    "    for gender,genderLst in genders.items()\n",
    "    for form, pronouns in forms.items()\n",
    "    for pronoun in brown.words()\n",
    "    if pronoun.lower() in pronouns\n",
    "    if pronoun.lower() in genderLst)\n",
    "\n"
   ]
  },
  {
   "cell_type": "code",
   "execution_count": 57,
   "metadata": {},
   "outputs": [
    {
     "data": {
      "text/html": [
       "<div>\n",
       "<style scoped>\n",
       "    .dataframe tbody tr th:only-of-type {\n",
       "        vertical-align: middle;\n",
       "    }\n",
       "\n",
       "    .dataframe tbody tr th {\n",
       "        vertical-align: top;\n",
       "    }\n",
       "\n",
       "    .dataframe thead th {\n",
       "        text-align: right;\n",
       "    }\n",
       "</style>\n",
       "<table border=\"1\" class=\"dataframe\">\n",
       "  <thead>\n",
       "    <tr style=\"text-align: right;\">\n",
       "      <th></th>\n",
       "      <th>Nominative</th>\n",
       "      <th>Object</th>\n",
       "    </tr>\n",
       "  </thead>\n",
       "  <tbody>\n",
       "    <tr>\n",
       "      <th>Female</th>\n",
       "      <td>2860</td>\n",
       "      <td>3036</td>\n",
       "    </tr>\n",
       "    <tr>\n",
       "      <th>Male</th>\n",
       "      <td>9548</td>\n",
       "      <td>2619</td>\n",
       "    </tr>\n",
       "  </tbody>\n",
       "</table>\n",
       "</div>"
      ],
      "text/plain": [
       "        Nominative  Object\n",
       "Female        2860    3036\n",
       "Male          9548    2619"
      ]
     },
     "execution_count": 57,
     "metadata": {},
     "output_type": "execute_result"
    }
   ],
   "source": [
    "df = pd.DataFrame(cfd1)\n",
    "df  "
   ]
  },
  {
   "cell_type": "code",
   "execution_count": 58,
   "metadata": {},
   "outputs": [
    {
     "name": "stdout",
     "output_type": "stream",
     "text": [
      "frequency of her from she or her: 0.5149253731343284\n",
      "frequency of him from he or him: 0.21525437659242214\n"
     ]
    }
   ],
   "source": [
    "print(f\"frequency of her from she or her: {df.loc['Female','Object']/df.loc['Female'].sum()}\")\n",
    "print(f\"frequency of him from he or him: {df.loc['Male','Object']/df.loc['Male'].sum()}\")"
   ]
  },
  {
   "cell_type": "markdown",
   "metadata": {},
   "source": [
    "d. Use the tagged Brown corpus to count the occurrences of she, he, her, him as personal pronouns and her, his, hers as possessive pronouns. Report the results in a two-ways table."
   ]
  },
  {
   "cell_type": "code",
   "execution_count": 59,
   "metadata": {},
   "outputs": [],
   "source": [
    "genders = {\"Female\":[\"she\", \"her\", \"hers\"], \"Male\":[\"he\",\"him\", \"his\"]}\n",
    "pronouns = {\"Personal\":[\"she\",\"he\",\"her\",\"him\"], \"Possessive\":[\"her\",\"his\",\"hers\"]}\n",
    "tags = {\"Personal\": [\"PPS\", \"PPO\"], \"Possessive\": [\"PP$\", \"PP$$\"]}\n",
    "\n",
    "\n",
    "cfd2 = nltk.ConditionalFreqDist(\n",
    "    (pronounName, gender)\n",
    "    for gender,genderLst in genders.items()\n",
    "    for pronounName, pronounLst in pronouns.items()\n",
    "    for tagkey, tagLst in tags.items()\n",
    "    for pronoun, tag in brown.tagged_words()\n",
    "    if pronoun.lower() in pronounLst\n",
    "    if pronoun.lower() in genderLst\n",
    "    if tag.split(\"+\")[0].split(\"-\")[0] in tagLst\n",
    "    if tagkey == pronounName)\n"
   ]
  },
  {
   "cell_type": "code",
   "execution_count": 60,
   "metadata": {},
   "outputs": [
    {
     "data": {
      "text/html": [
       "<div>\n",
       "<style scoped>\n",
       "    .dataframe tbody tr th:only-of-type {\n",
       "        vertical-align: middle;\n",
       "    }\n",
       "\n",
       "    .dataframe tbody tr th {\n",
       "        vertical-align: top;\n",
       "    }\n",
       "\n",
       "    .dataframe thead th {\n",
       "        text-align: right;\n",
       "    }\n",
       "</style>\n",
       "<table border=\"1\" class=\"dataframe\">\n",
       "  <thead>\n",
       "    <tr style=\"text-align: right;\">\n",
       "      <th></th>\n",
       "      <th>Personal</th>\n",
       "      <th>Possessive</th>\n",
       "    </tr>\n",
       "  </thead>\n",
       "  <tbody>\n",
       "    <tr>\n",
       "      <th>Female</th>\n",
       "      <td>3967</td>\n",
       "      <td>1945</td>\n",
       "    </tr>\n",
       "    <tr>\n",
       "      <th>Male</th>\n",
       "      <td>12165</td>\n",
       "      <td>6994</td>\n",
       "    </tr>\n",
       "  </tbody>\n",
       "</table>\n",
       "</div>"
      ],
      "text/plain": [
       "        Personal  Possessive\n",
       "Female      3967        1945\n",
       "Male       12165        6994"
      ]
     },
     "execution_count": 60,
     "metadata": {},
     "output_type": "execute_result"
    }
   ],
   "source": [
    "df1 = pd.DataFrame(cfd2)\n",
    "df1  "
   ]
  },
  {
   "cell_type": "code",
   "execution_count": 61,
   "metadata": {},
   "outputs": [],
   "source": [
    "cfd3 = nltk.ConditionalFreqDist(\n",
    "    (pronounName, pronoun.lower())\n",
    "    for gender,genderLst in genders.items()\n",
    "    for pronounName, pronounLst in pronouns.items()\n",
    "    for tagkey, tagLst in tags.items()\n",
    "    for pronoun, tag in brown.tagged_words()\n",
    "    if pronoun.lower() in pronounLst\n",
    "    if pronoun.lower() in genderLst\n",
    "    if tag.split(\"+\")[0].split(\"-\")[0] in tagLst\n",
    "    if tagkey == pronounName)"
   ]
  },
  {
   "cell_type": "code",
   "execution_count": 62,
   "metadata": {},
   "outputs": [
    {
     "data": {
      "text/html": [
       "<div>\n",
       "<style scoped>\n",
       "    .dataframe tbody tr th:only-of-type {\n",
       "        vertical-align: middle;\n",
       "    }\n",
       "\n",
       "    .dataframe tbody tr th {\n",
       "        vertical-align: top;\n",
       "    }\n",
       "\n",
       "    .dataframe thead th {\n",
       "        text-align: right;\n",
       "    }\n",
       "</style>\n",
       "<table border=\"1\" class=\"dataframe\">\n",
       "  <thead>\n",
       "    <tr style=\"text-align: right;\">\n",
       "      <th></th>\n",
       "      <th>Personal</th>\n",
       "      <th>Possessive</th>\n",
       "    </tr>\n",
       "  </thead>\n",
       "  <tbody>\n",
       "    <tr>\n",
       "      <th>she</th>\n",
       "      <td>2860.0</td>\n",
       "      <td>0.0</td>\n",
       "    </tr>\n",
       "    <tr>\n",
       "      <th>her</th>\n",
       "      <td>1107.0</td>\n",
       "      <td>1929.0</td>\n",
       "    </tr>\n",
       "    <tr>\n",
       "      <th>he</th>\n",
       "      <td>9546.0</td>\n",
       "      <td>0.0</td>\n",
       "    </tr>\n",
       "    <tr>\n",
       "      <th>him</th>\n",
       "      <td>2619.0</td>\n",
       "      <td>0.0</td>\n",
       "    </tr>\n",
       "    <tr>\n",
       "      <th>hers</th>\n",
       "      <td>0.0</td>\n",
       "      <td>16.0</td>\n",
       "    </tr>\n",
       "    <tr>\n",
       "      <th>his</th>\n",
       "      <td>0.0</td>\n",
       "      <td>6994.0</td>\n",
       "    </tr>\n",
       "  </tbody>\n",
       "</table>\n",
       "</div>"
      ],
      "text/plain": [
       "      Personal  Possessive\n",
       "she     2860.0         0.0\n",
       "her     1107.0      1929.0\n",
       "he      9546.0         0.0\n",
       "him     2619.0         0.0\n",
       "hers       0.0        16.0\n",
       "his        0.0      6994.0"
      ]
     },
     "execution_count": 62,
     "metadata": {},
     "output_type": "execute_result"
    }
   ],
   "source": [
    "df2 = pd.DataFrame(cfd3)\n",
    "df2 = df2.fillna(0)\n",
    "df2"
   ]
  },
  {
   "cell_type": "markdown",
   "metadata": {},
   "source": [
    "e. Question: \n",
    "What percentage of the feminine personal pronoun occurs in nominative form and in object form? What are the respective percentage for the masculine personal pronoun?\n"
   ]
  },
  {
   "cell_type": "code",
   "execution_count": 63,
   "metadata": {},
   "outputs": [
    {
     "name": "stdout",
     "output_type": "stream",
     "text": [
      "percentage of the feminine personal pronoun occurs in nominative form is 72.09%\n",
      "percentage of the feminine personal pronoun occurs in object form is 27.91% \n",
      "\n",
      "percentage of the masculine personal pronoun occurs in nominative form is 78.47%\n",
      "percentage of the masculine personal pronoun occurs in object form is 21.53%\n"
     ]
    }
   ],
   "source": [
    "Feminine_personal_pronoun_object = df2['Personal']['her']/(df2['Personal']['her'] + df2['Personal']['she'])\n",
    "Feminine_personal_pronoun_nominative = df2['Personal']['she']/(df2['Personal']['her'] + df2['Personal']['she'])\n",
    "\n",
    "print(f\"percentage of the feminine personal pronoun occurs in nominative form is {Feminine_personal_pronoun_nominative*100:.2f}%\")\n",
    "print(f\"percentage of the feminine personal pronoun occurs in object form is {Feminine_personal_pronoun_object*100:.2f}% \\n\")\n",
    "\n",
    "Masculine_personal_pronoun_object = df2['Personal']['him']/(df2['Personal']['he'] + df2['Personal']['him'])\n",
    "Masculine_personal_pronoun_nominative = df2['Personal']['he'] /(df2['Personal']['he'] + df2['Personal']['him'])\n",
    "\n",
    "print(f\"percentage of the masculine personal pronoun occurs in nominative form is {Masculine_personal_pronoun_nominative*100:.2f}%\")\n",
    "print(f\"percentage of the masculine personal pronoun occurs in object form is {Masculine_personal_pronoun_object*100:.2f}%\")\n"
   ]
  },
  {
   "cell_type": "markdown",
   "metadata": {},
   "source": [
    "f. Question:\n",
    "Illustrate the numbers from (d) with a bar chart."
   ]
  },
  {
   "cell_type": "code",
   "execution_count": 64,
   "metadata": {},
   "outputs": [
    {
     "data": {
      "image/png": "[encoded data removed]",
      "text/plain": [
       "<Figure size 640x480 with 1 Axes>"
      ]
     },
     "metadata": {},
     "output_type": "display_data"
    }
   ],
   "source": [
    "import matplotlib.pyplot as plt\n",
    "df1.plot.bar()\n",
    "plt.ylabel(\"Amount of Pronouns\")\n",
    "plt.xlabel(\"Gender\")\n",
    "plt.show(block=True)"
   ]
  },
  {
   "cell_type": "code",
   "execution_count": 65,
   "metadata": {},
   "outputs": [
    {
     "data": {
      "image/png": "[encoded data removed]",
      "text/plain": [
       "<Figure size 640x480 with 1 Axes>"
      ]
     },
     "metadata": {},
     "output_type": "display_data"
    }
   ],
   "source": [
    "df2.plot.bar()\n",
    "plt.ylabel(\"Amount of Pronouns\")\n",
    "plt.xlabel(\"Gender\")\n",
    "plt.show(block=True)"
   ]
  },
  {
   "cell_type": "markdown",
   "metadata": {},
   "source": [
    "g. Question:\n",
    "\n",
    "1. Why do you think the masculine pronoun is more frequent than the feminine pronoun?\n",
    "\n",
    "2. If you find that there is a different distribution between nominative and object forms for the masculine and the feminine pronouns, why do you think that is the case?\n",
    "\n",
    "3. Do you see any consequences for the development of language technology in general, and for language technology derived from example texts in particular?\n",
    "\n",
    "\n",
    "Answer:\n",
    "\n",
    "Reasons for masculine pronouns being more frequent than the feminine could be that mostly men are the writers of the texts and this causes the writers to use masculine pronouns more to make the texts relatable to themselves. Also, the theme of the texts can affect the use of pronouns. If the text is f.eks. about football the male pronouns will be used more frequently than female. I find that the nominative and object forms for the masculine and feminine pronouns have different distribution as the male nominative and objective pronouns are a lot higher than the female pronouns. Brown corpus was the first representation of the English language, per 1961. This shows womens position in society that time. Language technologists must use either up to date representation of language they use or use another method to develop the technology so that the societal changes is not a factor of bias.\n",
    "\n"
   ]
  },
  {
   "cell_type": "markdown",
   "metadata": {},
   "source": [
    "### Part 2 - Zipf's law of abbreviation"
   ]
  },
  {
   "cell_type": "markdown",
   "metadata": {},
   "source": [
    "Notes:\n",
    "\n",
    "Zipf's law of frequency: the frequency of a word is roughly proportional to its rank in the frequency list.\n",
    "\n",
    "zipf's law of abbreviation: the frequency of a word is negatively correlated with its length in characters. i.e. short words tend to be more frequent and long words tend to be rare. \n",
    "\n",
    "a. Question:\n",
    "\n",
    "Load the file and remove parts so that you only use the book text."
   ]
  },
  {
   "cell_type": "code",
   "execution_count": 134,
   "metadata": {},
   "outputs": [
    {
     "name": "stderr",
     "output_type": "stream",
     "text": [
      "[nltk_data] Downloading package punkt to\n",
      "[nltk_data]     C:\\Users\\MinaS\\AppData\\Roaming\\nltk_data...\n",
      "[nltk_data]   Package punkt is already up-to-date!\n"
     ]
    }
   ],
   "source": [
    "from urllib import request\n",
    "import nltk\n",
    "nltk.download('punkt')\n",
    "\n",
    "url = \"https://www.gutenberg.org/cache/epub/74/pg74.txt\"\n",
    "response = request.urlopen(url)\n",
    "raw = response.read().decode('utf8')\n",
    "raw = raw.lstrip('\\ufeff')"
   ]
  },
  {
   "cell_type": "code",
   "execution_count": 135,
   "metadata": {},
   "outputs": [
    {
     "data": {
      "text/plain": [
       "401647"
      ]
     },
     "execution_count": 135,
     "metadata": {},
     "output_type": "execute_result"
    }
   ],
   "source": [
    "# Marking the beginning\n",
    "start_indx = raw.find(\"THE ADVENTURES OF TOM SAWYER\\r\\n\")   \n",
    "# rfind (reverse find) helps us get the right index values to use for slicing the string\n",
    "end_indx = raw.find(\"*** END OF THE PROJECT GUTENBERG EBOOK THE ADVENTURES OF TOM SAWYER, COMPLETE ***\")\n",
    "raw = raw[start_indx:end_indx]\n",
    "len(raw)"
   ]
  },
  {
   "cell_type": "markdown",
   "metadata": {},
   "source": [
    "b. Question:\n",
    "\n",
    "Tokenize the text, remove the punctuation marks, and produce a frequency distribution of the word lengths. Format this distribution as Pandas dataframe."
   ]
  },
  {
   "cell_type": "code",
   "execution_count": 136,
   "metadata": {},
   "outputs": [],
   "source": [
    "import string\n",
    "\n",
    "# Tokenization: breaking up the string into words and punctuations\n",
    "tokens = nltk.word_tokenize(raw, language='english')\n",
    "\n",
    "#Eliminating numbers and punctuation by filtering any non-alphabetic items\n",
    "punctuations = string.punctuation\n",
    "\n",
    "for punc in punctuations:\n",
    "    try:\n",
    "        tokens.remove(punc)\n",
    "    except:\n",
    "        continue\n"
   ]
  },
  {
   "cell_type": "code",
   "execution_count": 69,
   "metadata": {},
   "outputs": [],
   "source": [
    "# Producing frequency distribution of the word length\n",
    "\n",
    "dict = {}\n",
    "\n",
    "for word in tokens:\n",
    "    lenWord = len(word)\n",
    "    if lenWord not in dict:\n",
    "        dict.update({lenWord:1})\n",
    "    else:\n",
    "        dict[lenWord] +=1"
   ]
  },
  {
   "cell_type": "code",
   "execution_count": 70,
   "metadata": {},
   "outputs": [
    {
     "data": {
      "text/plain": [
       "{3: 18873,\n",
       " 10: 1004,\n",
       " 2: 11331,\n",
       " 6: 5427,\n",
       " 4: 14421,\n",
       " 5: 7821,\n",
       " 9: 1734,\n",
       " 7: 4068,\n",
       " 8: 2557,\n",
       " 11: 601,\n",
       " 21: 2,\n",
       " 13: 177,\n",
       " 1: 20192,\n",
       " 15: 38,\n",
       " 19: 7,\n",
       " 20: 4,\n",
       " 17: 24,\n",
       " 30: 1,\n",
       " 16: 36,\n",
       " 14: 97,\n",
       " 22: 3,\n",
       " 12: 310,\n",
       " 18: 7,\n",
       " 23: 1}"
      ]
     },
     "execution_count": 70,
     "metadata": {},
     "output_type": "execute_result"
    }
   ],
   "source": [
    "dict # length of word is the key and count is the value"
   ]
  },
  {
   "cell_type": "code",
   "execution_count": 71,
   "metadata": {},
   "outputs": [
    {
     "data": {
      "text/html": [
       "<div>\n",
       "<style scoped>\n",
       "    .dataframe tbody tr th:only-of-type {\n",
       "        vertical-align: middle;\n",
       "    }\n",
       "\n",
       "    .dataframe tbody tr th {\n",
       "        vertical-align: top;\n",
       "    }\n",
       "\n",
       "    .dataframe thead th {\n",
       "        text-align: right;\n",
       "    }\n",
       "</style>\n",
       "<table border=\"1\" class=\"dataframe\">\n",
       "  <thead>\n",
       "    <tr style=\"text-align: right;\">\n",
       "      <th></th>\n",
       "      <th>Word Length</th>\n",
       "      <th>Frequency</th>\n",
       "    </tr>\n",
       "  </thead>\n",
       "  <tbody>\n",
       "    <tr>\n",
       "      <th>0</th>\n",
       "      <td>1</td>\n",
       "      <td>20192</td>\n",
       "    </tr>\n",
       "    <tr>\n",
       "      <th>1</th>\n",
       "      <td>2</td>\n",
       "      <td>11331</td>\n",
       "    </tr>\n",
       "    <tr>\n",
       "      <th>2</th>\n",
       "      <td>3</td>\n",
       "      <td>18873</td>\n",
       "    </tr>\n",
       "    <tr>\n",
       "      <th>3</th>\n",
       "      <td>4</td>\n",
       "      <td>14421</td>\n",
       "    </tr>\n",
       "    <tr>\n",
       "      <th>4</th>\n",
       "      <td>5</td>\n",
       "      <td>7821</td>\n",
       "    </tr>\n",
       "    <tr>\n",
       "      <th>5</th>\n",
       "      <td>6</td>\n",
       "      <td>5427</td>\n",
       "    </tr>\n",
       "    <tr>\n",
       "      <th>6</th>\n",
       "      <td>7</td>\n",
       "      <td>4068</td>\n",
       "    </tr>\n",
       "    <tr>\n",
       "      <th>7</th>\n",
       "      <td>8</td>\n",
       "      <td>2557</td>\n",
       "    </tr>\n",
       "    <tr>\n",
       "      <th>8</th>\n",
       "      <td>9</td>\n",
       "      <td>1734</td>\n",
       "    </tr>\n",
       "    <tr>\n",
       "      <th>9</th>\n",
       "      <td>10</td>\n",
       "      <td>1004</td>\n",
       "    </tr>\n",
       "    <tr>\n",
       "      <th>10</th>\n",
       "      <td>11</td>\n",
       "      <td>601</td>\n",
       "    </tr>\n",
       "    <tr>\n",
       "      <th>11</th>\n",
       "      <td>12</td>\n",
       "      <td>310</td>\n",
       "    </tr>\n",
       "    <tr>\n",
       "      <th>12</th>\n",
       "      <td>13</td>\n",
       "      <td>177</td>\n",
       "    </tr>\n",
       "    <tr>\n",
       "      <th>13</th>\n",
       "      <td>14</td>\n",
       "      <td>97</td>\n",
       "    </tr>\n",
       "    <tr>\n",
       "      <th>14</th>\n",
       "      <td>15</td>\n",
       "      <td>38</td>\n",
       "    </tr>\n",
       "    <tr>\n",
       "      <th>15</th>\n",
       "      <td>16</td>\n",
       "      <td>36</td>\n",
       "    </tr>\n",
       "    <tr>\n",
       "      <th>16</th>\n",
       "      <td>17</td>\n",
       "      <td>24</td>\n",
       "    </tr>\n",
       "    <tr>\n",
       "      <th>17</th>\n",
       "      <td>18</td>\n",
       "      <td>7</td>\n",
       "    </tr>\n",
       "    <tr>\n",
       "      <th>18</th>\n",
       "      <td>19</td>\n",
       "      <td>7</td>\n",
       "    </tr>\n",
       "    <tr>\n",
       "      <th>19</th>\n",
       "      <td>20</td>\n",
       "      <td>4</td>\n",
       "    </tr>\n",
       "    <tr>\n",
       "      <th>20</th>\n",
       "      <td>21</td>\n",
       "      <td>2</td>\n",
       "    </tr>\n",
       "    <tr>\n",
       "      <th>21</th>\n",
       "      <td>22</td>\n",
       "      <td>3</td>\n",
       "    </tr>\n",
       "    <tr>\n",
       "      <th>22</th>\n",
       "      <td>23</td>\n",
       "      <td>1</td>\n",
       "    </tr>\n",
       "    <tr>\n",
       "      <th>23</th>\n",
       "      <td>30</td>\n",
       "      <td>1</td>\n",
       "    </tr>\n",
       "  </tbody>\n",
       "</table>\n",
       "</div>"
      ],
      "text/plain": [
       "    Word Length  Frequency\n",
       "0             1      20192\n",
       "1             2      11331\n",
       "2             3      18873\n",
       "3             4      14421\n",
       "4             5       7821\n",
       "5             6       5427\n",
       "6             7       4068\n",
       "7             8       2557\n",
       "8             9       1734\n",
       "9            10       1004\n",
       "10           11        601\n",
       "11           12        310\n",
       "12           13        177\n",
       "13           14         97\n",
       "14           15         38\n",
       "15           16         36\n",
       "16           17         24\n",
       "17           18          7\n",
       "18           19          7\n",
       "19           20          4\n",
       "20           21          2\n",
       "21           22          3\n",
       "22           23          1\n",
       "23           30          1"
      ]
     },
     "execution_count": 71,
     "metadata": {},
     "output_type": "execute_result"
    }
   ],
   "source": [
    "df2 = pd.DataFrame(dict.items(), columns=[\"Word Length\", \"Frequency\"])\n",
    "df2 = df2.sort_values(by=\"Word Length\")\n",
    "df2 = df2.reset_index(drop=True)\n",
    "df2"
   ]
  },
  {
   "cell_type": "markdown",
   "metadata": {},
   "source": [
    "c. Question:\n",
    "\n",
    "What are the five most frequent word lengths? How long are the longest words of the text?\n",
    "\n",
    "Answer:"
   ]
  },
  {
   "cell_type": "code",
   "execution_count": 72,
   "metadata": {},
   "outputs": [
    {
     "data": {
      "text/html": [
       "<div>\n",
       "<style scoped>\n",
       "    .dataframe tbody tr th:only-of-type {\n",
       "        vertical-align: middle;\n",
       "    }\n",
       "\n",
       "    .dataframe tbody tr th {\n",
       "        vertical-align: top;\n",
       "    }\n",
       "\n",
       "    .dataframe thead th {\n",
       "        text-align: right;\n",
       "    }\n",
       "</style>\n",
       "<table border=\"1\" class=\"dataframe\">\n",
       "  <thead>\n",
       "    <tr style=\"text-align: right;\">\n",
       "      <th></th>\n",
       "      <th>Word Length</th>\n",
       "      <th>Frequency</th>\n",
       "    </tr>\n",
       "  </thead>\n",
       "  <tbody>\n",
       "    <tr>\n",
       "      <th>0</th>\n",
       "      <td>1</td>\n",
       "      <td>20192</td>\n",
       "    </tr>\n",
       "    <tr>\n",
       "      <th>1</th>\n",
       "      <td>2</td>\n",
       "      <td>11331</td>\n",
       "    </tr>\n",
       "    <tr>\n",
       "      <th>2</th>\n",
       "      <td>3</td>\n",
       "      <td>18873</td>\n",
       "    </tr>\n",
       "    <tr>\n",
       "      <th>3</th>\n",
       "      <td>4</td>\n",
       "      <td>14421</td>\n",
       "    </tr>\n",
       "    <tr>\n",
       "      <th>4</th>\n",
       "      <td>5</td>\n",
       "      <td>7821</td>\n",
       "    </tr>\n",
       "  </tbody>\n",
       "</table>\n",
       "</div>"
      ],
      "text/plain": [
       "   Word Length  Frequency\n",
       "0            1      20192\n",
       "1            2      11331\n",
       "2            3      18873\n",
       "3            4      14421\n",
       "4            5       7821"
      ]
     },
     "execution_count": 72,
     "metadata": {},
     "output_type": "execute_result"
    }
   ],
   "source": [
    "df2[:5]"
   ]
  },
  {
   "cell_type": "markdown",
   "metadata": {},
   "source": [
    "These are the five most frequent word lengths. In other words, the most frequent word length is of length 1. The longest words of the text are:"
   ]
  },
  {
   "cell_type": "code",
   "execution_count": 73,
   "metadata": {},
   "outputs": [
    {
     "data": {
      "text/html": [
       "<div>\n",
       "<style scoped>\n",
       "    .dataframe tbody tr th:only-of-type {\n",
       "        vertical-align: middle;\n",
       "    }\n",
       "\n",
       "    .dataframe tbody tr th {\n",
       "        vertical-align: top;\n",
       "    }\n",
       "\n",
       "    .dataframe thead th {\n",
       "        text-align: right;\n",
       "    }\n",
       "</style>\n",
       "<table border=\"1\" class=\"dataframe\">\n",
       "  <thead>\n",
       "    <tr style=\"text-align: right;\">\n",
       "      <th></th>\n",
       "      <th>Word Length</th>\n",
       "      <th>Frequency</th>\n",
       "    </tr>\n",
       "  </thead>\n",
       "  <tbody>\n",
       "    <tr>\n",
       "      <th>23</th>\n",
       "      <td>30</td>\n",
       "      <td>1</td>\n",
       "    </tr>\n",
       "    <tr>\n",
       "      <th>22</th>\n",
       "      <td>23</td>\n",
       "      <td>1</td>\n",
       "    </tr>\n",
       "    <tr>\n",
       "      <th>21</th>\n",
       "      <td>22</td>\n",
       "      <td>3</td>\n",
       "    </tr>\n",
       "    <tr>\n",
       "      <th>20</th>\n",
       "      <td>21</td>\n",
       "      <td>2</td>\n",
       "    </tr>\n",
       "    <tr>\n",
       "      <th>19</th>\n",
       "      <td>20</td>\n",
       "      <td>4</td>\n",
       "    </tr>\n",
       "  </tbody>\n",
       "</table>\n",
       "</div>"
      ],
      "text/plain": [
       "    Word Length  Frequency\n",
       "23           30          1\n",
       "22           23          1\n",
       "21           22          3\n",
       "20           21          2\n",
       "19           20          4"
      ]
     },
     "execution_count": 73,
     "metadata": {},
     "output_type": "execute_result"
    }
   ],
   "source": [
    "df2.sort_values(by=\"Word Length\", ascending=False)[:5]"
   ]
  },
  {
   "cell_type": "markdown",
   "metadata": {},
   "source": [
    "Longest word has the length 30 and has been used once in the whole text."
   ]
  },
  {
   "cell_type": "markdown",
   "metadata": {},
   "source": [
    "d. Question:\n",
    "\n",
    "Order the table by word length and produce a plot that shows the frequencies.\n",
    "\n",
    "Answer:\n"
   ]
  },
  {
   "cell_type": "code",
   "execution_count": 74,
   "metadata": {},
   "outputs": [
    {
     "data": {
      "image/png": "[encoded data removed]",
      "text/plain": [
       "<Figure size 640x480 with 1 Axes>"
      ]
     },
     "metadata": {},
     "output_type": "display_data"
    }
   ],
   "source": [
    "df2_sortWord = df2.sort_values(by=\"Word Length\")\n",
    "df2_sortWord.plot.bar(x=\"Word Length\", y=\"Frequency\")\n",
    "plt.show(block=True)"
   ]
  },
  {
   "cell_type": "markdown",
   "metadata": {},
   "source": [
    "e. Question:\n",
    "\n",
    "Also produce a visualization with the data ordered by decreasing frequency.\n",
    "\n",
    "Answer:"
   ]
  },
  {
   "cell_type": "code",
   "execution_count": 75,
   "metadata": {},
   "outputs": [
    {
     "data": {
      "image/png": "[encoded data removed]",
      "text/plain": [
       "<Figure size 640x480 with 1 Axes>"
      ]
     },
     "metadata": {},
     "output_type": "display_data"
    }
   ],
   "source": [
    "df2_sortFreq = df2.sort_values(by = \"Frequency\", ascending=False)\n",
    "df2_sortFreq.plot.bar(x=\"Word Length\", y=\"Frequency\")\n",
    "plt.show(block=True)"
   ]
  },
  {
   "cell_type": "markdown",
   "metadata": {},
   "source": [
    "f. Question:\n",
    "\n",
    "When dealing with word frequency data, it is often recommended to plot frequencies on a logarithmic scale. How does this change the plots?\n",
    "\n",
    "Answer:\n",
    "\n",
    "The frequencies will be scaled equally. According to Zipf's law word frequencies tend to follow a straight line in a log-log plot, which is a characteristic og Zipf's law. This is possible to observe in the plot below. The log scaled frequencies almost follow a striaght line compared to non scaled ones."
   ]
  },
  {
   "cell_type": "code",
   "execution_count": 76,
   "metadata": {},
   "outputs": [
    {
     "data": {
      "image/png": "[encoded data removed]",
      "text/plain": [
       "<Figure size 640x480 with 1 Axes>"
      ]
     },
     "metadata": {},
     "output_type": "display_data"
    }
   ],
   "source": [
    "df2_sortWord.plot.bar(x=\"Word Length\", y=\"Frequency\", log=True)\n",
    "plt.show(block=True)"
   ]
  },
  {
   "cell_type": "code",
   "execution_count": 77,
   "metadata": {},
   "outputs": [
    {
     "data": {
      "image/png": "[encoded data removed]",
      "text/plain": [
       "<Figure size 640x480 with 1 Axes>"
      ]
     },
     "metadata": {},
     "output_type": "display_data"
    }
   ],
   "source": [
    "\n",
    "df2_sortFreq.plot.bar(x=\"Word Length\", y=\"Frequency\", log=True)\n",
    "plt.show(block=True)"
   ]
  },
  {
   "cell_type": "markdown",
   "metadata": {},
   "source": [
    "g. Question:\n",
    "\n",
    "How well does this dataset match Zipf's law of abbreviation? In your opinion, whch plot is most suitable to prove or disaprove the law of abbreviation?\n",
    "\n",
    "Answer:\n",
    "\n"
   ]
  },
  {
   "cell_type": "markdown",
   "metadata": {},
   "source": [
    "h. Question:\n",
    "\n",
    "Select one word length and investigate in detail which words of this word length occur in the text. Are these words specific to the Tom Swayer text, or would you expect them to occur similarly frequently in other English texts? Is there any evidence of preprocessing (e.g. tokenization errors?)\n",
    "\n",
    "Answer:\n",
    "\n",
    "For the maximum word length which was 30, we got a word which is included in the prefrace of Tom Swayer book. I will say that this is a word we would only expect to occur in this book, also since it is only included in the prefrace i would consider it as a preprocessing error. 'hop-skip-and-jump—proof'is a word of length 23 which is actually included in the text (not only prefrace), and would rarely occur in other text as a single word (usually would occur as 5 seperate words). "
   ]
  },
  {
   "cell_type": "code",
   "execution_count": 79,
   "metadata": {},
   "outputs": [],
   "source": [
    "wordLengths_long = list(df2.sort_values(by = \"Word Length\")[\"Word Length\"][-3:])\n",
    "wordLengths_short = list(df2.sort_values(by = \"Word Length\")[\"Word Length\"][:2])\n",
    "\n",
    "def word_len_analysis(wordLengths):\n",
    "    dictWords = {}\n",
    "\n",
    "    for word in tokens:\n",
    "        if len(word) in wordLengths:\n",
    "            if len(word) not in dictWords:\n",
    "                dictWords.update({len(word) : [word]})\n",
    "            else:\n",
    "                dictWords[len(word)].append(word)\n",
    "    print(dictWords)\n"
   ]
  },
  {
   "cell_type": "code",
   "execution_count": 80,
   "metadata": {},
   "outputs": [
    {
     "name": "stdout",
     "output_type": "stream",
     "text": [
      "{30: ['Self-Examination—Dentistry—The'], 22: ['Investigated—Wonderful', 'Eloquence—Compositions', 'again—aimlessly—simply'], 23: ['hop-skip-and-jump—proof']}\n"
     ]
    }
   ],
   "source": [
    "#long word lengths\n",
    "\n",
    "word_len_analysis(wordLengths_long)"
   ]
  },
  {
   "cell_type": "markdown",
   "metadata": {},
   "source": [
    "### Part 3 - Identifying dialogue act types in chat messages\n"
   ]
  },
  {
   "cell_type": "code",
   "execution_count": 33,
   "metadata": {},
   "outputs": [
    {
     "name": "stderr",
     "output_type": "stream",
     "text": [
      "[nltk_data] Downloading package nps_chat to\n",
      "[nltk_data]     C:\\Users\\MinaS\\AppData\\Roaming\\nltk_data...\n",
      "[nltk_data]   Package nps_chat is already up-to-date!\n"
     ]
    },
    {
     "name": "stdout",
     "output_type": "stream",
     "text": [
      "         label                                         text\n",
      "0    Statement               now im left with this gay name\n",
      "1      Emotion                                           :P\n",
      "2       System                                         PART\n",
      "3        Greet                               hey everyone  \n",
      "4    Statement                                      ah well\n",
      "5       System                         NICK :10-19-20sUser7\n",
      "6       Accept                10-19-20sUser7 is a gay name.\n",
      "7       System  .ACTION gives 10-19-20sUser121 a golf clap.\n",
      "8      Emotion                                           :)\n",
      "9       System                                         JOIN\n",
      "10       Greet                           hi 10-19-20sUser59\n",
      "11   Statement   26/ m/ ky women that are nice please pm me\n",
      "12      System                                         JOIN\n",
      "13      System                                         PART\n",
      "14   Statement                   there ya go 10-19-20sUser7\n",
      "15      Reject                          don't golf clap me.\n",
      "16      Reject                  fuck you 10-19-20sUser121:@\n",
      "17  whQuestion                        whats everyone up to?\n",
      "18      System                                         PART\n",
      "19      System                                         PART\n"
     ]
    }
   ],
   "source": [
    "import nltk\n",
    "nltk.download(\"nps_chat\")\n",
    "from nltk.corpus import nps_chat\n",
    "import pandas as pd\n",
    "\n",
    "data = []\n",
    "for f in nps_chat.fileids():\n",
    "   posts = nps_chat.xml_posts(f)\n",
    "   for p in posts:\n",
    "     data.append((p.get('class'), p.text))\n",
    "     \n",
    "df = pd.DataFrame(data, columns=['label', 'text'])\n",
    "print(df.head(20))\n"
   ]
  },
  {
   "cell_type": "markdown",
   "metadata": {},
   "source": [
    "a. \n",
    "\n",
    "• How many distinct labels are there, and how many instances per label?"
   ]
  },
  {
   "cell_type": "code",
   "execution_count": 34,
   "metadata": {},
   "outputs": [
    {
     "name": "stdout",
     "output_type": "stream",
     "text": [
      "There are 15 distinct labels.\n",
      "There are number of instances per label are \n",
      " label\n",
      "Statement     3185\n",
      "System        2632\n",
      "Greet         1363\n",
      "Emotion       1106\n",
      "ynQuestion     550\n",
      "whQuestion     533\n",
      "Accept         233\n",
      "Bye            195\n",
      "Emphasis       190\n",
      "Continuer      168\n",
      "Reject         159\n",
      "yAnswer        108\n",
      "nAnswer         72\n",
      "Clarify         38\n",
      "Other           35\n",
      "Name: count, dtype: int64\n"
     ]
    }
   ],
   "source": [
    "# number of distinct labels:\n",
    "\n",
    "Distinc_labels = df['label'].unique()\n",
    "print(f\"There are {len(Distinc_labels)} distinct labels.\")\n",
    "\n",
    "# Number of instances per label\n",
    "instances = df['label'].value_counts()\n",
    "print(f\"There are number of instances per label are \\n {instances}\")"
   ]
  },
  {
   "cell_type": "markdown",
   "metadata": {},
   "source": [
    "• Try to understand what the labels mean, looking at some examples if necessary."
   ]
  },
  {
   "cell_type": "code",
   "execution_count": 35,
   "metadata": {},
   "outputs": [
    {
     "data": {
      "text/html": [
       "<div>\n",
       "<style scoped>\n",
       "    .dataframe tbody tr th:only-of-type {\n",
       "        vertical-align: middle;\n",
       "    }\n",
       "\n",
       "    .dataframe tbody tr th {\n",
       "        vertical-align: top;\n",
       "    }\n",
       "\n",
       "    .dataframe thead th {\n",
       "        text-align: right;\n",
       "    }\n",
       "</style>\n",
       "<table border=\"1\" class=\"dataframe\">\n",
       "  <thead>\n",
       "    <tr style=\"text-align: right;\">\n",
       "      <th></th>\n",
       "      <th>label</th>\n",
       "      <th>text</th>\n",
       "    </tr>\n",
       "  </thead>\n",
       "  <tbody>\n",
       "    <tr>\n",
       "      <th>145</th>\n",
       "      <td>Emphasis</td>\n",
       "      <td>i thought of that!</td>\n",
       "    </tr>\n",
       "    <tr>\n",
       "      <th>166</th>\n",
       "      <td>Emphasis</td>\n",
       "      <td>10-19-20sUser20 go plan the wedding! :P</td>\n",
       "    </tr>\n",
       "    <tr>\n",
       "      <th>167</th>\n",
       "      <td>Emphasis</td>\n",
       "      <td>first warning !!!!!</td>\n",
       "    </tr>\n",
       "    <tr>\n",
       "      <th>176</th>\n",
       "      <td>Emphasis</td>\n",
       "      <td>10-19-20sUser136.. get the hell in my freaking...</td>\n",
       "    </tr>\n",
       "    <tr>\n",
       "      <th>202</th>\n",
       "      <td>Emphasis</td>\n",
       "      <td>that's such a DIRTY word.</td>\n",
       "    </tr>\n",
       "    <tr>\n",
       "      <th>...</th>\n",
       "      <td>...</td>\n",
       "      <td>...</td>\n",
       "    </tr>\n",
       "    <tr>\n",
       "      <th>10434</th>\n",
       "      <td>Emphasis</td>\n",
       "      <td>Oh!</td>\n",
       "    </tr>\n",
       "    <tr>\n",
       "      <th>10482</th>\n",
       "      <td>Emphasis</td>\n",
       "      <td>omg,omg,omg Its!Its 11-09-teensUser197!</td>\n",
       "    </tr>\n",
       "    <tr>\n",
       "      <th>10487</th>\n",
       "      <td>Emphasis</td>\n",
       "      <td>11-09-teensUser197!!!!!!!!</td>\n",
       "    </tr>\n",
       "    <tr>\n",
       "      <th>10489</th>\n",
       "      <td>Emphasis</td>\n",
       "      <td>11-09-teensUser122!!!!!!!!</td>\n",
       "    </tr>\n",
       "    <tr>\n",
       "      <th>10555</th>\n",
       "      <td>Emphasis</td>\n",
       "      <td>Bloooooooooooood. Bloooooooood. Bloooooooooood...</td>\n",
       "    </tr>\n",
       "  </tbody>\n",
       "</table>\n",
       "<p>190 rows × 2 columns</p>\n",
       "</div>"
      ],
      "text/plain": [
       "          label                                               text\n",
       "145    Emphasis                                 i thought of that!\n",
       "166    Emphasis            10-19-20sUser20 go plan the wedding! :P\n",
       "167    Emphasis                                first warning !!!!!\n",
       "176    Emphasis  10-19-20sUser136.. get the hell in my freaking...\n",
       "202    Emphasis                          that's such a DIRTY word.\n",
       "...         ...                                                ...\n",
       "10434  Emphasis                                                Oh!\n",
       "10482  Emphasis            omg,omg,omg Its!Its 11-09-teensUser197!\n",
       "10487  Emphasis                         11-09-teensUser197!!!!!!!!\n",
       "10489  Emphasis                         11-09-teensUser122!!!!!!!!\n",
       "10555  Emphasis  Bloooooooooooood. Bloooooooood. Bloooooooooood...\n",
       "\n",
       "[190 rows x 2 columns]"
      ]
     },
     "execution_count": 35,
     "metadata": {},
     "output_type": "execute_result"
    }
   ],
   "source": [
    "df.loc[df['label'] == 'Emphasis']\n"
   ]
  },
  {
   "cell_type": "code",
   "execution_count": 36,
   "metadata": {},
   "outputs": [
    {
     "data": {
      "text/html": [
       "<div>\n",
       "<style scoped>\n",
       "    .dataframe tbody tr th:only-of-type {\n",
       "        vertical-align: middle;\n",
       "    }\n",
       "\n",
       "    .dataframe tbody tr th {\n",
       "        vertical-align: top;\n",
       "    }\n",
       "\n",
       "    .dataframe thead th {\n",
       "        text-align: right;\n",
       "    }\n",
       "</style>\n",
       "<table border=\"1\" class=\"dataframe\">\n",
       "  <thead>\n",
       "    <tr style=\"text-align: right;\">\n",
       "      <th></th>\n",
       "      <th>label</th>\n",
       "      <th>text</th>\n",
       "    </tr>\n",
       "  </thead>\n",
       "  <tbody>\n",
       "    <tr>\n",
       "      <th>22</th>\n",
       "      <td>Continuer</td>\n",
       "      <td>and i dont even know what that means.</td>\n",
       "    </tr>\n",
       "    <tr>\n",
       "      <th>41</th>\n",
       "      <td>Continuer</td>\n",
       "      <td>&amp; a head between her legs</td>\n",
       "    </tr>\n",
       "    <tr>\n",
       "      <th>78</th>\n",
       "      <td>Continuer</td>\n",
       "      <td>and i don't complain about things being hard v...</td>\n",
       "    </tr>\n",
       "    <tr>\n",
       "      <th>88</th>\n",
       "      <td>Continuer</td>\n",
       "      <td>or a \"ogan\"</td>\n",
       "    </tr>\n",
       "    <tr>\n",
       "      <th>183</th>\n",
       "      <td>Continuer</td>\n",
       "      <td>'</td>\n",
       "    </tr>\n",
       "    <tr>\n",
       "      <th>...</th>\n",
       "      <td>...</td>\n",
       "      <td>...</td>\n",
       "    </tr>\n",
       "    <tr>\n",
       "      <th>10214</th>\n",
       "      <td>Continuer</td>\n",
       "      <td>in this thing</td>\n",
       "    </tr>\n",
       "    <tr>\n",
       "      <th>10223</th>\n",
       "      <td>Continuer</td>\n",
       "      <td>And I need to sit on something soft.</td>\n",
       "    </tr>\n",
       "    <tr>\n",
       "      <th>10425</th>\n",
       "      <td>Continuer</td>\n",
       "      <td>Amazingness.</td>\n",
       "    </tr>\n",
       "    <tr>\n",
       "      <th>10429</th>\n",
       "      <td>Continuer</td>\n",
       "      <td>...3333333</td>\n",
       "    </tr>\n",
       "    <tr>\n",
       "      <th>10550</th>\n",
       "      <td>Continuer</td>\n",
       "      <td>In da butt. :O</td>\n",
       "    </tr>\n",
       "  </tbody>\n",
       "</table>\n",
       "<p>168 rows × 2 columns</p>\n",
       "</div>"
      ],
      "text/plain": [
       "           label                                               text\n",
       "22     Continuer              and i dont even know what that means.\n",
       "41     Continuer                          & a head between her legs\n",
       "78     Continuer  and i don't complain about things being hard v...\n",
       "88     Continuer                                        or a \"ogan\"\n",
       "183    Continuer                                                  '\n",
       "...          ...                                                ...\n",
       "10214  Continuer                                      in this thing\n",
       "10223  Continuer               And I need to sit on something soft.\n",
       "10425  Continuer                                       Amazingness.\n",
       "10429  Continuer                                         ...3333333\n",
       "10550  Continuer                                     In da butt. :O\n",
       "\n",
       "[168 rows x 2 columns]"
      ]
     },
     "execution_count": 36,
     "metadata": {},
     "output_type": "execute_result"
    }
   ],
   "source": [
    "df.loc[df['label'] == 'Continuer']"
   ]
  },
  {
   "cell_type": "markdown",
   "metadata": {},
   "source": [
    "• What is the average message length (in characters)?"
   ]
  },
  {
   "cell_type": "code",
   "execution_count": 37,
   "metadata": {},
   "outputs": [
    {
     "data": {
      "text/plain": [
       "21.910570644459167"
      ]
     },
     "execution_count": 37,
     "metadata": {},
     "output_type": "execute_result"
    }
   ],
   "source": [
    "df['text'].str.len().mean()"
   ]
  },
  {
   "cell_type": "markdown",
   "metadata": {},
   "source": [
    "• How do these numbers compare to the Movie Reviews corpus used in the last exercise\n",
    "set?"
   ]
  },
  {
   "cell_type": "code",
   "execution_count": 82,
   "metadata": {},
   "outputs": [
    {
     "name": "stderr",
     "output_type": "stream",
     "text": [
      "[nltk_data] Downloading package movie_reviews to\n",
      "[nltk_data]     C:\\Users\\MinaS\\AppData\\Roaming\\nltk_data...\n",
      "[nltk_data]   Package movie_reviews is already up-to-date!\n"
     ]
    },
    {
     "name": "stdout",
     "output_type": "stream",
     "text": [
      "the mean length of movies revies is 3893.002\n"
     ]
    }
   ],
   "source": [
    "# Movie reviews average message\n",
    "\n",
    "from nltk.corpus import movie_reviews\n",
    "nltk.download('movie_reviews')\n",
    "\n",
    "movie_reviews.categories()\n",
    "movie_reviews.fileids('pos')\n",
    "movie_reviews.raw('pos/cv000_29590.txt')\n",
    "\n",
    "movie_docs = [(movie_reviews.raw(fileid), label)\n",
    "              for label in movie_reviews.categories()\n",
    "                for fileid in movie_reviews.fileids(label)]\n",
    "\n",
    "df_movie = pd.DataFrame(movie_docs , columns=['text', 'label'])\n",
    "\n",
    "len_movie = df_movie['text'].str.len().mean()\n",
    "\n",
    "print(f\"the mean length of movies reviews is {len_movie}\")"
   ]
  },
  {
   "cell_type": "markdown",
   "metadata": {},
   "source": [
    "\n",
    "• Explain in a few sentences how these differences may impact the text classification\n",
    "performance. Which text classification methods or parameter settings do you expect to\n",
    "be better adapted to the NPS Chat problem?\n"
   ]
  },
  {
   "cell_type": "code",
   "execution_count": 106,
   "metadata": {},
   "outputs": [
    {
     "data": {
      "text/plain": [
       "['neg', 'pos']"
      ]
     },
     "execution_count": 106,
     "metadata": {},
     "output_type": "execute_result"
    }
   ],
   "source": [
    "movie_reviews.categories()"
   ]
  },
  {
   "cell_type": "code",
   "execution_count": 114,
   "metadata": {},
   "outputs": [
    {
     "data": {
      "text/html": [
       "<div>\n",
       "<style scoped>\n",
       "    .dataframe tbody tr th:only-of-type {\n",
       "        vertical-align: middle;\n",
       "    }\n",
       "\n",
       "    .dataframe tbody tr th {\n",
       "        vertical-align: top;\n",
       "    }\n",
       "\n",
       "    .dataframe thead th {\n",
       "        text-align: right;\n",
       "    }\n",
       "</style>\n",
       "<table border=\"1\" class=\"dataframe\">\n",
       "  <thead>\n",
       "    <tr style=\"text-align: right;\">\n",
       "      <th></th>\n",
       "      <th>text</th>\n",
       "      <th>label</th>\n",
       "    </tr>\n",
       "  </thead>\n",
       "  <tbody>\n",
       "    <tr>\n",
       "      <th>0</th>\n",
       "      <td>plot : two teen couples go to a church party ,...</td>\n",
       "      <td>neg</td>\n",
       "    </tr>\n",
       "    <tr>\n",
       "      <th>1</th>\n",
       "      <td>the happy bastard's quick movie review \\ndamn ...</td>\n",
       "      <td>neg</td>\n",
       "    </tr>\n",
       "    <tr>\n",
       "      <th>2</th>\n",
       "      <td>it is movies like these that make a jaded movi...</td>\n",
       "      <td>neg</td>\n",
       "    </tr>\n",
       "    <tr>\n",
       "      <th>3</th>\n",
       "      <td>\" quest for camelot \" is warner bros . ' firs...</td>\n",
       "      <td>neg</td>\n",
       "    </tr>\n",
       "    <tr>\n",
       "      <th>4</th>\n",
       "      <td>synopsis : a mentally unstable man undergoing ...</td>\n",
       "      <td>neg</td>\n",
       "    </tr>\n",
       "    <tr>\n",
       "      <th>...</th>\n",
       "      <td>...</td>\n",
       "      <td>...</td>\n",
       "    </tr>\n",
       "    <tr>\n",
       "      <th>995</th>\n",
       "      <td>if anything , \" stigmata \" should be taken as ...</td>\n",
       "      <td>neg</td>\n",
       "    </tr>\n",
       "    <tr>\n",
       "      <th>996</th>\n",
       "      <td>john boorman's \" zardoz \" is a goofy cinematic...</td>\n",
       "      <td>neg</td>\n",
       "    </tr>\n",
       "    <tr>\n",
       "      <th>997</th>\n",
       "      <td>the kids in the hall are an acquired taste . \\...</td>\n",
       "      <td>neg</td>\n",
       "    </tr>\n",
       "    <tr>\n",
       "      <th>998</th>\n",
       "      <td>there was a time when john carpenter was a gre...</td>\n",
       "      <td>neg</td>\n",
       "    </tr>\n",
       "    <tr>\n",
       "      <th>999</th>\n",
       "      <td>two party guys bob their heads to haddaway's d...</td>\n",
       "      <td>neg</td>\n",
       "    </tr>\n",
       "  </tbody>\n",
       "</table>\n",
       "<p>1000 rows × 2 columns</p>\n",
       "</div>"
      ],
      "text/plain": [
       "                                                  text label\n",
       "0    plot : two teen couples go to a church party ,...   neg\n",
       "1    the happy bastard's quick movie review \\ndamn ...   neg\n",
       "2    it is movies like these that make a jaded movi...   neg\n",
       "3     \" quest for camelot \" is warner bros . ' firs...   neg\n",
       "4    synopsis : a mentally unstable man undergoing ...   neg\n",
       "..                                                 ...   ...\n",
       "995  if anything , \" stigmata \" should be taken as ...   neg\n",
       "996  john boorman's \" zardoz \" is a goofy cinematic...   neg\n",
       "997  the kids in the hall are an acquired taste . \\...   neg\n",
       "998  there was a time when john carpenter was a gre...   neg\n",
       "999  two party guys bob their heads to haddaway's d...   neg\n",
       "\n",
       "[1000 rows x 2 columns]"
      ]
     },
     "execution_count": 114,
     "metadata": {},
     "output_type": "execute_result"
    }
   ],
   "source": [
    "df_movie[df_movie['label'] == 'neg']"
   ]
  },
  {
   "cell_type": "markdown",
   "metadata": {},
   "source": [
    "\n",
    "Movie reviews has binary labels while NPS has multiple labels thus it uses multinomial distribution to predict the labels which makes the predictions more accurate than binary classification. While length of the movie reviews charachers is 3893 which is alot more than NPS length. This means that Movie Reviews is easier to predict and more accurate as it contains more data and only binary labels, while NPS contains less data with multiple labels which makes the prediction not as accurate and easy."
   ]
  },
  {
   "cell_type": "markdown",
   "metadata": {},
   "source": [
    "• Split the data into training and test data. To simplify things, we will just use a two-way split of\n",
    "90% training data and 10% test data in this first experiment."
   ]
  },
  {
   "cell_type": "code",
   "execution_count": 39,
   "metadata": {},
   "outputs": [],
   "source": [
    "from sklearn.model_selection import train_test_split\n",
    "\n",
    "x_train, x_test, y_train, y_test = train_test_split(df['text'], df['label'], test_size=0.1)"
   ]
  },
  {
   "cell_type": "markdown",
   "metadata": {},
   "source": [
    "• Instantiate a CountVectorizer with default parameters and fit it to the training data.\n",
    "\n"
   ]
  },
  {
   "cell_type": "code",
   "execution_count": 138,
   "metadata": {},
   "outputs": [],
   "source": [
    "from sklearn.feature_extraction.text import CountVectorizer\n",
    "cv = CountVectorizer()\n",
    "x_train_bow = cv.fit_transform(x_train)\n"
   ]
  },
  {
   "cell_type": "markdown",
   "metadata": {},
   "source": [
    "• Instantiate a MultinomialNB model and fit it to the training data.\n",
    "\n",
    "• Predict the test set labels using the trained model and display the classification report."
   ]
  },
  {
   "cell_type": "code",
   "execution_count": 41,
   "metadata": {},
   "outputs": [
    {
     "name": "stdout",
     "output_type": "stream",
     "text": [
      "0.7076631977294229\n",
      "              precision    recall  f1-score   support\n",
      "\n",
      "      Accept       1.00      0.10      0.17        21\n",
      "         Bye       1.00      0.05      0.10        19\n",
      "     Clarify       0.00      0.00      0.00         6\n",
      "   Continuer       0.00      0.00      0.00        15\n",
      "     Emotion       0.86      0.63      0.73       111\n",
      "    Emphasis       0.00      0.00      0.00        11\n",
      "       Greet       0.69      0.96      0.80       138\n",
      "       Other       0.00      0.00      0.00         5\n",
      "      Reject       0.00      0.00      0.00        17\n",
      "   Statement       0.55      0.85      0.67       312\n",
      "      System       0.93      0.96      0.95       255\n",
      "     nAnswer       0.00      0.00      0.00         8\n",
      "  whQuestion       0.89      0.28      0.42        61\n",
      "     yAnswer       0.00      0.00      0.00        14\n",
      "  ynQuestion       0.75      0.23      0.36        64\n",
      "\n",
      "    accuracy                           0.71      1057\n",
      "   macro avg       0.45      0.27      0.28      1057\n",
      "weighted avg       0.70      0.71      0.66      1057\n",
      "\n"
     ]
    },
    {
     "name": "stderr",
     "output_type": "stream",
     "text": [
      "c:\\Users\\MinaS\\Anaconda3\\envs\\in4080_2023\\lib\\site-packages\\sklearn\\metrics\\_classification.py:1469: UndefinedMetricWarning: Precision and F-score are ill-defined and being set to 0.0 in labels with no predicted samples. Use `zero_division` parameter to control this behavior.\n",
      "  _warn_prf(average, modifier, msg_start, len(result))\n",
      "c:\\Users\\MinaS\\Anaconda3\\envs\\in4080_2023\\lib\\site-packages\\sklearn\\metrics\\_classification.py:1469: UndefinedMetricWarning: Precision and F-score are ill-defined and being set to 0.0 in labels with no predicted samples. Use `zero_division` parameter to control this behavior.\n",
      "  _warn_prf(average, modifier, msg_start, len(result))\n",
      "c:\\Users\\MinaS\\Anaconda3\\envs\\in4080_2023\\lib\\site-packages\\sklearn\\metrics\\_classification.py:1469: UndefinedMetricWarning: Precision and F-score are ill-defined and being set to 0.0 in labels with no predicted samples. Use `zero_division` parameter to control this behavior.\n",
      "  _warn_prf(average, modifier, msg_start, len(result))\n"
     ]
    }
   ],
   "source": [
    "# training a multinomial Naive Bayes classifier\n",
    "\n",
    "from sklearn.naive_bayes import MultinomialNB\n",
    "nb = MultinomialNB()\n",
    "nb.fit(x_train_bow, y_train)\n",
    "\n",
    "# Predicting \n",
    "x_test_bow = cv.transform(x_test)\n",
    "predicted_y_test = nb.predict(x_test_bow)\n",
    "\n",
    "# evaluating model \n",
    "# Compare predictions with gold labels of validation set\n",
    "\n",
    "from sklearn import metrics\n",
    "acc=metrics.accuracy_score(y_test, predicted_y_test)\n",
    "\n",
    "# Accuracy score\n",
    "print(acc)\n",
    "\n",
    "# classification report\n",
    "print(metrics.classification_report(y_test, predicted_y_test))\n"
   ]
  },
  {
   "cell_type": "code",
   "execution_count": 42,
   "metadata": {},
   "outputs": [
    {
     "name": "stdout",
     "output_type": "stream",
     "text": [
      "[[  2   0   0   0   0   0   0   0   0  17   2   0   0   0   0]\n",
      " [  0   1   0   0   0   0  10   0   0   8   0   0   0   0   0]\n",
      " [  0   0   0   0   0   0   0   0   0   6   0   0   0   0   0]\n",
      " [  0   0   0   0   0   0   1   0   0  14   0   0   0   0   0]\n",
      " [  0   0   0   0  70   0   6   0   0  35   0   0   0   0   0]\n",
      " [  0   0   0   0   0   0   1   0   0  10   0   0   0   0   0]\n",
      " [  0   0   0   0   0   0 132   0   0   4   2   0   0   0   0]\n",
      " [  0   0   0   0   0   0   0   0   0   4   1   0   0   0   0]\n",
      " [  0   0   0   0   1   0   1   0   0  13   1   0   0   0   1]\n",
      " [  0   0   0   0   6   0  25   0   0 265  11   0   2   0   3]\n",
      " [  0   0   0   0   1   0   3   0   0   5 246   0   0   0   0]\n",
      " [  0   0   0   0   1   0   1   0   0   4   2   0   0   0   0]\n",
      " [  0   0   0   0   1   0   5   0   0  37   0   0  17   0   1]\n",
      " [  0   0   0   0   1   0   1   0   0  12   0   0   0   0   0]\n",
      " [  0   0   0   0   0   0   5   0   0  44   0   0   0   0  15]]\n"
     ]
    }
   ],
   "source": [
    "# confusion matrix C is such that C_i,j is equal to the number of observations known\n",
    "# to be in group i and predicted to be in group j.\n",
    "# i = row  , j = col\n",
    "\n",
    "print(metrics.confusion_matrix(y_test, predicted_y_test))"
   ]
  },
  {
   "cell_type": "markdown",
   "metadata": {},
   "source": [
    "b. Question:\n",
    "\n",
    "Which classes are the easiest / most difficult to\n",
    "predict? Are there classes where precision differs drastically from recall, and if so, what does this\n",
    "mean?"
   ]
  },
  {
   "cell_type": "markdown",
   "metadata": {},
   "source": [
    "To analyse which classes are the easiest or most difficult to predict we use precision, recall and f1-score in the classification report. \n",
    "\n",
    "\n",
    "Theory: \n",
    "\n",
    "\n",
    "Precision = True positive/ (True positive + False positive)\n",
    "\n",
    "Recall = True positive/ (True positive + False negative)\n",
    "\n",
    "f1 = (2 * precision * recall) / (precision + recall)\n",
    "\n",
    "There are classes where precision differs drastically from recall. \n",
    "\n",
    "precision = how many of what we found are what we wanted to find.\n",
    "recall = How many things that we wanted to find are from that class (are actually what we wanted to find). \n",
    "\n",
    "Sometimes precision is more important than recall, f.eks. in identifying spam mails.\n",
    "\n",
    "\n",
    "Analysis:\n",
    "\n",
    "Classes that  are most difficult to predict are Clarify, Continuer, Emphasis, Other, Reject, nAnswer and y_Answer. Since they got a f1-score = 0. f1-score = 1 indicates correctly classified labels. The ones that are easy to predict are System, Greet and Statement.\n",
    "\n",
    " In this case, we have classes where precision differs drastically from recall. An example is \"Accept\" and \"Bye\". They have lower recall value than the precision, this means that the labels that are predicted are from correct class but not all of the data labels from the same class are correctly predicted. Thus the easiest predicted classes are \n",
    "\n"
   ]
  },
  {
   "cell_type": "markdown",
   "metadata": {},
   "source": [
    "c. Produce the cross-validation scores with the initial Naïve Bayes model"
   ]
  },
  {
   "cell_type": "code",
   "execution_count": 43,
   "metadata": {},
   "outputs": [
    {
     "name": "stdout",
     "output_type": "stream",
     "text": [
      "0.704 accuracy with a standard deviation of 0.009\n"
     ]
    }
   ],
   "source": [
    "from sklearn.model_selection import cross_val_score\n",
    "scores = cross_val_score(nb, x_train_bow, y_train, cv=5)\n",
    "print(\"{:.3f} accuracy with a standard deviation of {:.3f}\".format(scores.mean(), scores.std()))\n"
   ]
  },
  {
   "cell_type": "markdown",
   "metadata": {},
   "source": [
    "d. By default, the CountVectorizer lowercases all input and uses a simple whitespace-based\n",
    "tokenizer. Check if other settings provide better results. Note that NLTK provides a\n",
    "TweetTokenizer which might work best for user-generated content."
   ]
  },
  {
   "cell_type": "code",
   "execution_count": 44,
   "metadata": {},
   "outputs": [
    {
     "name": "stdout",
     "output_type": "stream",
     "text": [
      "0               now im left with this gay name\n",
      "1                                           :P\n",
      "2                                         PART\n",
      "3                               hey everyone  \n",
      "4                                      ah well\n",
      "                         ...                  \n",
      "10562                      hi 11-09-teensUser3\n",
      "10563                                     JOIN\n",
      "10564                  Hi, 11-09-teensUser197.\n",
      "10565    Not that I know of, 11-09-teensUser98\n",
      "10566                                      Uh.\n",
      "Name: text, Length: 10567, dtype: object\n"
     ]
    }
   ],
   "source": [
    "print(str(df['text']))"
   ]
  },
  {
   "cell_type": "code",
   "execution_count": 119,
   "metadata": {},
   "outputs": [
    {
     "name": "stderr",
     "output_type": "stream",
     "text": [
      "c:\\Users\\MinaS\\Anaconda3\\envs\\in4080_2023\\lib\\site-packages\\sklearn\\feature_extraction\\text.py:525: UserWarning: The parameter 'token_pattern' will not be used since 'tokenizer' is not None'\n",
      "  warnings.warn(\n"
     ]
    },
    {
     "name": "stdout",
     "output_type": "stream",
     "text": [
      "0.654 accuracy with a standard deviation of 0.003\n"
     ]
    }
   ],
   "source": [
    "from nltk.tokenize import TweetTokenizer\n",
    "\n",
    "# TweetTokenizer\n",
    "\n",
    "tknzr = TweetTokenizer()\n",
    "cv_tknzr = CountVectorizer(tokenizer = tknzr.tokenize)\n",
    "\n",
    "x_train_bow_tknzr =cv_tknzr.fit_transform(x_train)\n",
    "\n",
    "nb.fit(x_train_bow_tknzr, y_train)\n",
    "\n",
    "scores = cross_val_score(nb, x_train_bow_tknzr, y_train, cv=5)\n",
    "print(\"{:.3f} accuracy with a standard deviation of {:.3f}\".format(scores.mean(), scores.std()))\n"
   ]
  },
  {
   "cell_type": "markdown",
   "metadata": {},
   "source": [
    "The TweetTokenizer gave better accuracy for the data points.\n",
    "\n",
    "e. By default (and as its name implies), the CountVectorizer produces frequency counts. Evaluate the impact of binary feature values (presence or absence of a word in an instance). There is a second way to include binary features, namely by using the BernoulliNB model instead of the MultinomialNB one. What is the difference between the binary multinomial model and the Bernoulli model (both in terms of scores and theoretically)?\n",
    "\n",
    "Answer:\n",
    "\n",
    "Bernoulli gave worse results than the multinomial. The bernoulli only uses binary features, therefore multinomial is better at predicting the labels as it uses multiple labels"
   ]
  },
  {
   "cell_type": "code",
   "execution_count": 122,
   "metadata": {},
   "outputs": [
    {
     "name": "stdout",
     "output_type": "stream",
     "text": [
      "0.632 accuracy with a standard deviation of 0.007\n"
     ]
    }
   ],
   "source": [
    "from sklearn.naive_bayes import BernoulliNB\n",
    "\n",
    "cv_binary =  CountVectorizer(binary = True)\n",
    "br = BernoulliNB()\n",
    "\n",
    "#br.fit(x_train_bow, y_train)\n",
    "\n",
    "#x_test_bow = cv_binary.transform(x_test)\n",
    "#predicted_y_test = nb.predict(x_test_bow)\n",
    "\n",
    "scores = cross_val_score(br, x_train_bow, y_train, cv=5)\n",
    "print(\"{:.3f} accuracy with a standard deviation of {:.3f}\".format(scores.mean(), scores.std()))\n"
   ]
  },
  {
   "cell_type": "markdown",
   "metadata": {},
   "source": [
    "f. We know that Logistic Regression may produce better results than Naive Bayes. We will see what happens if we use Logistic Regression instead of Naive Bayes on this task. Keep the same CountVectorizer as before and replace the Naïve Bayes classifier by a Logistic Regression one with default parameters:\n"
   ]
  },
  {
   "cell_type": "code",
   "execution_count": 124,
   "metadata": {},
   "outputs": [
    {
     "name": "stdout",
     "output_type": "stream",
     "text": [
      "0.779 accuracy with a standard deviation of 0.004\n"
     ]
    }
   ],
   "source": [
    "from sklearn.linear_model import LogisticRegression\n",
    "\n",
    "x_train_bow =cv_binary.fit_transform(x_train)\n",
    "\n",
    "logreg = LogisticRegression(max_iter=500)\n",
    "\n",
    "#logreg.fit(x_train_bow, y_train)\n",
    "\n",
    "#x_test_bow = cv_binary.transform(x_test)\n",
    "#predicted_y_test = logreg.predict(x_test_bow)\n",
    "\n",
    "#print(metrics.accuracy_score(y_test, predicted_y_test))\n",
    "\n",
    "scores = cross_val_score(logreg, x_train_bow, y_train, cv=5)\n",
    "print(\"{:.3f} accuracy with a standard deviation of {:.3f}\".format(scores.mean(), scores.std()))"
   ]
  },
  {
   "cell_type": "markdown",
   "metadata": {},
   "source": [
    "g. Evaluate different regularization settings (L2, L1, different values of C). The supported types of regularization depend on the Solver used for gradient descent."
   ]
  },
  {
   "cell_type": "code",
   "execution_count": 125,
   "metadata": {},
   "outputs": [
    {
     "name": "stdout",
     "output_type": "stream",
     "text": [
      "for C:0.1:\n",
      "0.727 accuracy with a standard deviation of 0.006\n",
      "for C:0.2:\n",
      "0.751 accuracy with a standard deviation of 0.005\n",
      "for C:0.3:\n",
      "0.760 accuracy with a standard deviation of 0.007\n",
      "for C:0.4:\n",
      "0.766 accuracy with a standard deviation of 0.005\n",
      "for C:0.5:\n",
      "0.770 accuracy with a standard deviation of 0.005\n",
      "for C:0.6:\n",
      "0.775 accuracy with a standard deviation of 0.005\n",
      "for C:0.7:\n",
      "0.777 accuracy with a standard deviation of 0.005\n",
      "for C:0.8:\n",
      "0.778 accuracy with a standard deviation of 0.005\n",
      "for C:0.9:\n",
      "0.779 accuracy with a standard deviation of 0.005\n",
      "for C:1.0:\n",
      "0.779 accuracy with a standard deviation of 0.004\n",
      "for C:1.1:\n",
      "0.780 accuracy with a standard deviation of 0.003\n",
      "for C:1.2:\n",
      "0.781 accuracy with a standard deviation of 0.002\n",
      "for C:1.3:\n",
      "0.781 accuracy with a standard deviation of 0.003\n",
      "for C:1.4:\n",
      "0.780 accuracy with a standard deviation of 0.003\n",
      "for C:1.5:\n",
      "0.780 accuracy with a standard deviation of 0.003\n",
      "for C:1.6:\n",
      "0.779 accuracy with a standard deviation of 0.003\n",
      "for C:1.7:\n",
      "0.779 accuracy with a standard deviation of 0.002\n",
      "for C:1.8:\n",
      "0.778 accuracy with a standard deviation of 0.002\n",
      "for C:1.9:\n",
      "0.777 accuracy with a standard deviation of 0.002\n"
     ]
    }
   ],
   "source": [
    "C_max = 20\n",
    "\n",
    "\n",
    "for c in range(1, C_max, 1):\n",
    "    c = c/10\n",
    "    logreg = LogisticRegression(C = c, max_iter=500)\n",
    "\n",
    "    #logreg.fit(x_train_bow, y_train)\n",
    "\n",
    "    #x_test_bow = cv_binary.transform(x_test)\n",
    "    #predicted_y_test = logreg.predict(x_test_bow)\n",
    "    scores = cross_val_score(logreg, x_train_bow, y_train, cv=5)\n",
    "\n",
    "    print(f\"for C:{c}:\")\n",
    "    print(\"{:.3f} accuracy with a standard deviation of {:.3f}\".format(scores.mean(), scores.std()))\n"
   ]
  },
  {
   "cell_type": "code",
   "execution_count": 129,
   "metadata": {},
   "outputs": [
    {
     "name": "stdout",
     "output_type": "stream",
     "text": [
      "0.772 accuracy with a standard deviation of 0.004\n"
     ]
    }
   ],
   "source": [
    "\n",
    "logreg = LogisticRegression(penalty='l1', solver='liblinear')\n",
    "\n",
    "#logreg.fit(x_train_bow, y_train)\n",
    "\n",
    "#x_test_bow = cv_binary.transform(x_test)\n",
    "#predicted_y_test = logreg.predict(x_test_bow)\n",
    "\n",
    "scores = cross_val_score(logreg, x_train_bow, y_train, cv=5)\n",
    "print(\"{:.3f} accuracy with a standard deviation of {:.3f}\".format(scores.mean(), scores.std()))"
   ]
  },
  {
   "cell_type": "code",
   "execution_count": 130,
   "metadata": {},
   "outputs": [
    {
     "name": "stdout",
     "output_type": "stream",
     "text": [
      "0.778 accuracy with a standard deviation of 0.004\n"
     ]
    }
   ],
   "source": [
    "logreg = LogisticRegression(penalty='l2', solver='saga', max_iter=500)\n",
    "\n",
    "#logreg.fit(x_train_bow, y_train)\n",
    "\n",
    "#x_test_bow = cv_binary.transform(x_test)\n",
    "#predicted_y_test = logreg.predict(x_test_bow)\n",
    "\n",
    "scores = cross_val_score(logreg, x_train_bow, y_train, cv=5)\n",
    "print(\"{:.3f} accuracy with a standard deviation of {:.3f}\".format(scores.mean(), scores.std()))"
   ]
  },
  {
   "cell_type": "markdown",
   "metadata": {},
   "source": [
    "h. Retrain the best model on the entire training set and evaluate it on the test set. Report the detailed evaluation scores and compare them with the initial Naïve Bayes scores. On which classes did your model improve the most? Which classes are still difficult to predict?"
   ]
  },
  {
   "cell_type": "markdown",
   "metadata": {},
   "source": [
    "The model with best result was logistic regression with C:1.2 which got 0.781 accuracy with a standard deviation of 0.002. Evaluating it on the test set we get the accuracy: 0.79. The classes that improved the most are all of the classes excluding Clarify, Emphasis, Other as they remained the same and are still difficult to predict."
   ]
  },
  {
   "cell_type": "code",
   "execution_count": 133,
   "metadata": {},
   "outputs": [
    {
     "name": "stdout",
     "output_type": "stream",
     "text": [
      "              precision    recall  f1-score   support\n",
      "\n",
      "      Accept       0.60      0.57      0.59        21\n",
      "         Bye       1.00      0.53      0.69        19\n",
      "     Clarify       0.00      0.00      0.00         6\n",
      "   Continuer       0.20      0.07      0.10        15\n",
      "     Emotion       0.81      0.68      0.74       111\n",
      "    Emphasis       0.00      0.00      0.00        11\n",
      "       Greet       0.96      0.92      0.94       138\n",
      "       Other       0.00      0.00      0.00         5\n",
      "      Reject       0.38      0.18      0.24        17\n",
      "   Statement       0.63      0.89      0.74       312\n",
      "      System       1.00      0.97      0.98       255\n",
      "     nAnswer       0.50      0.25      0.33         8\n",
      "  whQuestion       0.92      0.75      0.83        61\n",
      "     yAnswer       0.73      0.57      0.64        14\n",
      "  ynQuestion       0.66      0.33      0.44        64\n",
      "\n",
      "    accuracy                           0.79      1057\n",
      "   macro avg       0.56      0.45      0.48      1057\n",
      "weighted avg       0.78      0.79      0.77      1057\n",
      "\n"
     ]
    },
    {
     "name": "stderr",
     "output_type": "stream",
     "text": [
      "c:\\Users\\MinaS\\Anaconda3\\envs\\in4080_2023\\lib\\site-packages\\sklearn\\metrics\\_classification.py:1469: UndefinedMetricWarning: Precision and F-score are ill-defined and being set to 0.0 in labels with no predicted samples. Use `zero_division` parameter to control this behavior.\n",
      "  _warn_prf(average, modifier, msg_start, len(result))\n",
      "c:\\Users\\MinaS\\Anaconda3\\envs\\in4080_2023\\lib\\site-packages\\sklearn\\metrics\\_classification.py:1469: UndefinedMetricWarning: Precision and F-score are ill-defined and being set to 0.0 in labels with no predicted samples. Use `zero_division` parameter to control this behavior.\n",
      "  _warn_prf(average, modifier, msg_start, len(result))\n",
      "c:\\Users\\MinaS\\Anaconda3\\envs\\in4080_2023\\lib\\site-packages\\sklearn\\metrics\\_classification.py:1469: UndefinedMetricWarning: Precision and F-score are ill-defined and being set to 0.0 in labels with no predicted samples. Use `zero_division` parameter to control this behavior.\n",
      "  _warn_prf(average, modifier, msg_start, len(result))\n"
     ]
    }
   ],
   "source": [
    "logreg = LogisticRegression(C = 1.2, max_iter=500)\n",
    "x_train_bow_log =cv_binary.fit_transform(x_train)\n",
    "logreg.fit(x_train_bow_log, y_train)\n",
    "\n",
    "x_test_bow = cv_binary.transform(x_test)\n",
    "predicted_y_test = logreg.predict(x_test_bow)\n",
    "print(metrics.classification_report(y_test, predicted_y_test))"
   ]
  }
 ],
 "metadata": {
  "kernelspec": {
   "display_name": "in4080_2023",
   "language": "python",
   "name": "python3"
  },
  "language_info": {
   "codemirror_mode": {
    "name": "ipython",
    "version": 3
   },
   "file_extension": ".py",
   "mimetype": "text/x-python",
   "name": "python",
   "nbconvert_exporter": "python",
   "pygments_lexer": "ipython3",
   "version": "3.10.12"
  },
  "orig_nbformat": 4
 },
 "nbformat": 4,
 "nbformat_minor": 2
}
